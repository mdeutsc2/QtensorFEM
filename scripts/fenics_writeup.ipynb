{
 "cells": [
  {
   "attachments": {},
   "cell_type": "markdown",
   "metadata": {},
   "source": [
    "# Q-Tensor Relaxation in FEniCSx"
   ]
  },
  {
   "attachments": {},
   "cell_type": "markdown",
   "metadata": {},
   "source": [
    "Using the Landau-de Gennes free energy with a single-constant approximation: \n",
    "\n",
    "$ F_{LDG} = \\frac{A}{2}Q_{ij}Q_{ji} + \\frac{B}{3} Q_{ij}(Q_{ik}Q_{kj})_{ji} + \\frac{C}{4}(Q_{ij}Q_{ji})^2 + \\frac{L}{2}\\nabla^2Q $\n",
    "\n",
    "and taking the functional derivative of $F_{LDG}$ to calculate the time derivative.\n",
    "\n",
    "$ \\frac{\\partial Q}{\\partial t} = - AQ - B Q_{ik}Q{kj} - C(Q_{ij}Q{ji})Q + \\frac{L}{2}\\nabla^2Q $\n",
    "\n",
    "\n",
    "$ \\frac{Q-Q_0}{\\delta t} = - AQ - B Q_{ik}Q{kj} - C(Q_{ij}Q{ji})Q + \\frac{L}{2}\\nabla^2Q $\n",
    "\n",
    "I'm not entirely sure that the FEniCSx needs a separate residual and jacobian. I think (accoriding to their documentation) that the non-linear solver can figure out the jacobian by itself.\n",
    "\n",
    "So to get the weak form of the equation above I do the following:\n",
    "\n",
    "$F_1 = \\frac{Q-Q_0}{\\delta t} \\Rightarrow F_1 = \\int_{\\Omega} (\\frac{Q-Q_0}{\\delta t})V \\,dx$\n",
    "\n",
    "where $V$ is the test function. Likewise, I separate the rest of $F_{LDG}$ into two more terms.\n",
    "\n",
    "$F_2 =  \\int_{\\Omega} (-AQ - B Q_{ik}Q{kj} - C(Q_{ij}Q{ji})Q)V\\,dx$\n",
    "\n",
    "$F_3 = \\frac{L}{2} \\int_{\\Omega} (\\nabla Q \\cdot \\nabla V)\\,dx$\n",
    "\n",
    "And then the weak form that goes into FEniCSx will be $F_1 + F_2 + F_3$"
   ]
  },
  {
   "cell_type": "code",
   "execution_count": 2,
   "metadata": {},
   "outputs": [],
   "source": [
    "import numpy as np\n",
    "import ufl,time\n",
    "from dolfinx import *\n",
    "from mpi4py import MPI\n",
    "from petsc4py import PETSc\n",
    "from tqdm.auto import tqdm"
   ]
  },
  {
   "cell_type": "code",
   "execution_count": 9,
   "metadata": {},
   "outputs": [],
   "source": [
    "axispts = 11\n",
    "T = 10\n",
    "nsteps = 100\n",
    "dt = T/nsteps\n",
    "isave = False\n",
    "theta = 1 #time-step family, theta=1 -> backwards Euler, theta=0.5 -> Crank-Nicholson, theta = 0 -> forwards Euler\n",
    "S0 = 0.53 # order parameter"
   ]
  },
  {
   "attachments": {},
   "cell_type": "markdown",
   "metadata": {},
   "source": [
    "FEniCSx has a ```TensorElement``` which can be set as symmetric. I used this instead of breaking up the problem into separate values of $Q$ ($q_0,q_1$...) with a ```MixedElement``` function space and having a separate residual for each of them, although I think that might work as well."
   ]
  },
  {
   "cell_type": "code",
   "execution_count": 5,
   "metadata": {},
   "outputs": [],
   "source": [
    "# creating a cubic regular mesh from 0.0->1.0 with 11 nodes to each side\n",
    "msh = mesh.create_unit_cube(comm = MPI.COMM_WORLD,\n",
    "                                  nx = axispts,\n",
    "                                  ny = axispts,\n",
    "                                  nz = axispts)\n",
    "    \n",
    "# populating the mesh with a symmetric tensor element at each node\n",
    "#P = ufl.TensorElement('CG', ufl.tetrahedron, 1, symmetry=True)\n",
    "P = ufl.TensorElement('CG',msh.ufl_cell(),1,symmetry=True)\n",
    "# creating the Function space\n",
    "FS = fem.FunctionSpace(msh,P) #CG == Lagrange\n",
    "\n",
    "Q = fem.Function(FS) # current time-step result\n",
    "Q_n = fem.Function(FS) # previous time-step result\n",
    "V = ufl.TestFunction(FS) # test function to weight calcuations through the lattice"
   ]
  },
  {
   "attachments": {},
   "cell_type": "markdown",
   "metadata": {},
   "source": [
    "For the initial conditions of the mesh, I want $Q$ to have values corresponding to a random orientation of the directior at each node/point in space. The following function, ```initQ3d``` attempts to do this, following the similar Cahn-Hilliard example in the FEniCSx documentation."
   ]
  },
  {
   "cell_type": "code",
   "execution_count": 6,
   "metadata": {},
   "outputs": [],
   "source": [
    "def initQ3d(x):\n",
    "    # values[0] = tensor[0,0]  --> 0 1 2\n",
    "    # values[1] = tensor[0,1]      3 4 5\n",
    "    # values[2] = tensor[0,2]      6 7 8\n",
    "    # values[3] = tensor[1,0] ...\n",
    "    values = np.zeros((3*3,\n",
    "                    x.shape[1]), dtype=np.float64)\n",
    "    n = np.zeros((3,x[0].shape[0])) # director\n",
    "    polar_angle = np.arccos(np.random.uniform(-1,1,x[0].shape))\n",
    "    azi_angle = np.random.uniform(0,2*np.pi)\n",
    "    n[0,:] = np.sin(polar_angle)*np.cos(azi_angle)\n",
    "    n[1,:] = np.sin(polar_angle)*np.sin(azi_angle)\n",
    "    n[2,:] = np.cos(polar_angle)\n",
    "    #n = np.linalg.norm(n)\n",
    "    #Qxx = S0*(n[0]*n[0] - 1/3)\n",
    "    values[0] = S0*(n[0,:]*n[0,:]-1/3)\n",
    "    values[1] = S0*(n[0,:]*n[1,:])\n",
    "    values[2] = S0*(n[0,:]*n[2,:])\n",
    "    values[3] = S0*(n[1,:]*n[0,:])\n",
    "    values[4] = S0*(n[1,:]*n[1,:]-1/3)\n",
    "    values[5] = values[3]\n",
    "    values[6] = values[2]\n",
    "    values[7] = values[1]\n",
    "    values[8] = -values[0]-values[4]\n",
    "    return values"
   ]
  },
  {
   "cell_type": "code",
   "execution_count": 7,
   "metadata": {},
   "outputs": [],
   "source": [
    "#initializing Q for random director and distributing initial condition\n",
    "Q.interpolate(initQ3d)"
   ]
  },
  {
   "cell_type": "code",
   "execution_count": 10,
   "metadata": {},
   "outputs": [],
   "source": [
    "# writing initial conditions to file\n",
    "if (isave):\n",
    "    xdmf_Q_file = io.XDMFFile(msh.comm, \"qtensor.xdmf\",'w')\n",
    "    xdmf_Q_file.write_mesh(msh)\n",
    "    xdmf_Q_file.write_function(Q,0.0)\n",
    "    #vtk_Q_file = io.VTKFile(msh.comm, \"qtensor.vtk\",'w')\n",
    "    #vtk_Q_file.write_mesh(msh,0.0)\n",
    "    print(\"Initial state written\")\n",
    "    xdmf_Q_file.close()\n",
    "\n",
    "# defining some constants\n",
    "A = fem.Constant(msh,PETSc.ScalarType(1.0))\n",
    "B = fem.Constant(msh, PETSc.ScalarType(1.0))\n",
    "C = fem.Constant(msh, PETSc.ScalarType(1.0))\n",
    "L = fem.Constant(msh, PETSc.ScalarType(1.0))\n",
    "k = fem.Constant(msh, PETSc.ScalarType(dt))\n",
    "\n",
    "# backwards euler part of residual\n",
    "F1 = ufl.inner((Q - Q_n)/k,V)*ufl.dx \n",
    "# bulk free energy part\n",
    "F2 = -1*ufl.inner((A*Q + B*ufl.dot(Q,Q) + C*(ufl.inner(Q,Q)*Q)),V)*ufl.dx\n",
    "# distortion/elastic term\n",
    "F3 = -1*(ufl.inner(ufl.grad(Q),ufl.grad(V)))*ufl.dx\n",
    "# construct the residual\n",
    "F = F1+F2+F3\n",
    "#print(fem.assemble_scalar(F2+F3))\n",
    "#exit()"
   ]
  },
  {
   "attachments": {},
   "cell_type": "markdown",
   "metadata": {},
   "source": [
    "The following is almost copied from the Cahn-Hilliard and the Non-linear Poisson equation examples with the exception of changing the convergence criterion."
   ]
  },
  {
   "cell_type": "code",
   "execution_count": 11,
   "metadata": {},
   "outputs": [
    {
     "name": "stderr",
     "output_type": "stream",
     "text": [
      "INFO:root:running build_ext\n",
      "INFO:root:building 'libffcx_forms_c7c33010deddb6c479364a4dd0c5bce88f7f6cbf' extension\n",
      "INFO:root:/home/matt/anaconda3/envs/fenics/bin/x86_64-conda-linux-gnu-cc -Wno-unused-result -Wsign-compare -DNDEBUG -fwrapv -O2 -Wall -fPIC -O2 -isystem /home/matt/anaconda3/envs/fenics/include -fPIC -O2 -isystem /home/matt/anaconda3/envs/fenics/include -march=nocona -mtune=haswell -ftree-vectorize -fPIC -fstack-protector-strong -fno-plt -O2 -ffunction-sections -pipe -isystem /home/matt/anaconda3/envs/fenics/include -DNDEBUG -D_FORTIFY_SOURCE=2 -O2 -isystem /home/matt/anaconda3/envs/fenics/include -fPIC -I/home/matt/anaconda3/envs/fenics/lib/python3.10/site-packages/ffcx/codegeneration -I/home/matt/anaconda3/envs/fenics/include/python3.10 -c libffcx_forms_c7c33010deddb6c479364a4dd0c5bce88f7f6cbf.c -o ./libffcx_forms_c7c33010deddb6c479364a4dd0c5bce88f7f6cbf.o -O2 -g0\n",
      "INFO:root:/home/matt/anaconda3/envs/fenics/bin/x86_64-conda-linux-gnu-cc -shared -Wl,--allow-shlib-undefined -Wl,-rpath,/home/matt/anaconda3/envs/fenics/lib -Wl,-rpath-link,/home/matt/anaconda3/envs/fenics/lib -L/home/matt/anaconda3/envs/fenics/lib -Wl,--allow-shlib-undefined -Wl,-rpath,/home/matt/anaconda3/envs/fenics/lib -Wl,-rpath-link,/home/matt/anaconda3/envs/fenics/lib -L/home/matt/anaconda3/envs/fenics/lib -Wl,-O2 -Wl,--sort-common -Wl,--as-needed -Wl,-z,relro -Wl,-z,now -Wl,--disable-new-dtags -Wl,--gc-sections -Wl,--allow-shlib-undefined -Wl,-rpath,/home/matt/anaconda3/envs/fenics/lib -Wl,-rpath-link,/home/matt/anaconda3/envs/fenics/lib -L/home/matt/anaconda3/envs/fenics/lib -march=nocona -mtune=haswell -ftree-vectorize -fPIC -fstack-protector-strong -fno-plt -O2 -ffunction-sections -pipe -isystem /home/matt/anaconda3/envs/fenics/include -DNDEBUG -D_FORTIFY_SOURCE=2 -O2 -isystem /home/matt/anaconda3/envs/fenics/include ./libffcx_forms_c7c33010deddb6c479364a4dd0c5bce88f7f6cbf.o -o ./libffcx_forms_c7c33010deddb6c479364a4dd0c5bce88f7f6cbf.cpython-310-x86_64-linux-gnu.so\n",
      "INFO:root:running build_ext\n",
      "INFO:root:building 'libffcx_forms_0b2949a41d6d24eac99996520d864f0059184e19' extension\n",
      "INFO:root:/home/matt/anaconda3/envs/fenics/bin/x86_64-conda-linux-gnu-cc -Wno-unused-result -Wsign-compare -DNDEBUG -fwrapv -O2 -Wall -fPIC -O2 -isystem /home/matt/anaconda3/envs/fenics/include -fPIC -O2 -isystem /home/matt/anaconda3/envs/fenics/include -march=nocona -mtune=haswell -ftree-vectorize -fPIC -fstack-protector-strong -fno-plt -O2 -ffunction-sections -pipe -isystem /home/matt/anaconda3/envs/fenics/include -DNDEBUG -D_FORTIFY_SOURCE=2 -O2 -isystem /home/matt/anaconda3/envs/fenics/include -fPIC -I/home/matt/anaconda3/envs/fenics/lib/python3.10/site-packages/ffcx/codegeneration -I/home/matt/anaconda3/envs/fenics/include/python3.10 -c libffcx_forms_0b2949a41d6d24eac99996520d864f0059184e19.c -o ./libffcx_forms_0b2949a41d6d24eac99996520d864f0059184e19.o -O2 -g0\n",
      "INFO:root:/home/matt/anaconda3/envs/fenics/bin/x86_64-conda-linux-gnu-cc -shared -Wl,--allow-shlib-undefined -Wl,-rpath,/home/matt/anaconda3/envs/fenics/lib -Wl,-rpath-link,/home/matt/anaconda3/envs/fenics/lib -L/home/matt/anaconda3/envs/fenics/lib -Wl,--allow-shlib-undefined -Wl,-rpath,/home/matt/anaconda3/envs/fenics/lib -Wl,-rpath-link,/home/matt/anaconda3/envs/fenics/lib -L/home/matt/anaconda3/envs/fenics/lib -Wl,-O2 -Wl,--sort-common -Wl,--as-needed -Wl,-z,relro -Wl,-z,now -Wl,--disable-new-dtags -Wl,--gc-sections -Wl,--allow-shlib-undefined -Wl,-rpath,/home/matt/anaconda3/envs/fenics/lib -Wl,-rpath-link,/home/matt/anaconda3/envs/fenics/lib -L/home/matt/anaconda3/envs/fenics/lib -march=nocona -mtune=haswell -ftree-vectorize -fPIC -fstack-protector-strong -fno-plt -O2 -ffunction-sections -pipe -isystem /home/matt/anaconda3/envs/fenics/include -DNDEBUG -D_FORTIFY_SOURCE=2 -O2 -isystem /home/matt/anaconda3/envs/fenics/include ./libffcx_forms_0b2949a41d6d24eac99996520d864f0059184e19.o -o ./libffcx_forms_0b2949a41d6d24eac99996520d864f0059184e19.cpython-310-x86_64-linux-gnu.so\n"
     ]
    }
   ],
   "source": [
    "# Create nonlinear problem and Newton solver\n",
    "problem = fem.petsc.NonlinearProblem(F, Q)\n",
    "solver = nls.petsc.NewtonSolver(msh.comm, problem)\n",
    "solver.convergence_criterion = \"residual\" #\"incremental\"\n",
    "solver.rtol = 1e-6\n",
    "\n",
    "# We can customize the linear solver used inside the NewtonSolver by\n",
    "# modifying the PETSc options\n",
    "ksp = solver.krylov_solver\n",
    "opts = PETSc.Options()\n",
    "option_prefix = ksp.getOptionsPrefix()\n",
    "opts[f\"{option_prefix}ksp_type\"] = \"preonly\"\n",
    "opts[f\"{option_prefix}pc_type\"] = \"lu\"\n",
    "ksp.setFromOptions()"
   ]
  },
  {
   "cell_type": "code",
   "execution_count": 12,
   "metadata": {},
   "outputs": [
    {
     "name": "stdout",
     "output_type": "stream",
     "text": [
      "Step 1/50: num iterations: 2\t 0.656003475189209s,3.0487643368400548it/s\n",
      "Step 2/50: num iterations: 3\t 1.6419000625610352s,3.045252335395494it/s\n",
      "Step 3/50: num iterations: 30\t 10.922283172607422s,3.204458211427659it/s\n",
      "Step 4/50: num iterations: 13\t 14.944137334823608s,3.2119619168747797it/s\n",
      "Step 5/50: num iterations: 12\t 18.677062034606934s,3.2124966918686324it/s\n",
      "Step 5/50: num iterations: 8\t 21.25369381904602s,3.199443850981956it/s\n",
      "Step 6/50: num iterations: 12\t 24.947086811065674s,3.206787253592862it/s\n",
      "Step 7/50: num iterations: 8\t 27.42420983314514s,3.2088435924101786it/s\n",
      "Step 8/50: num iterations: 12\t 31.09834909439087s,3.2156047800632845it/s\n",
      "Step 9/50: num iterations: 8\t 33.58565092086792s,3.215658980511105it/s\n",
      "Step 10/50: num iterations: 16\t 38.568602561950684s,3.2150503716287213it/s\n",
      "Step 11/50: num iterations: 10\t 41.66566228866577s,3.2160775237803376it/s\n",
      "Step 13/50: num iterations: 12\t 45.37142753601074s,3.217884204417452it/s\n",
      "Step 14/50: num iterations: 15\t 49.99348306655884s,3.2204197452226446it/s\n",
      "Step 15/50: num iterations: 11\t 53.39538931846619s,3.221251913234309it/s\n",
      "Step 16/50: num iterations: 11\t 56.79105615615845s,3.222338381888948it/s\n",
      "Step 17/50: num iterations: 23\t 63.965625524520874s,3.2204797234575784it/s\n",
      "Step 18/50: num iterations: 9\t 66.77123069763184s,3.219949636297858it/s\n",
      "Step 19/50: num iterations: 13\t 70.80586647987366s,3.2200721682405833it/s\n",
      "Step 20/50: num iterations: 9\t 73.60158777236938s,3.22003922976471it/s\n",
      "Step 21/50: num iterations: 13\t 77.60986757278442s,3.2212398734676864it/s\n",
      "Step 22/50: num iterations: 8\t 80.07649731636047s,3.2219191478956946it/s\n",
      "Step 23/50: num iterations: 24\t 87.48316836357117s,3.2234772159604077it/s\n",
      "Step 24/50: num iterations: 8\t 89.99206829071045s,3.222506222028188it/s\n",
      "Step 25/50: num iterations: 19\t 96.06992173194885s,3.2164073253037686it/s\n",
      "Step 26/50: num iterations: 8\t 98.5606210231781s,3.216294669302585it/s\n",
      "Step 27/50: num iterations: 15\t 103.17880010604858s,3.217715263782539it/s\n",
      "Step 28/50: num iterations: 8\t 105.68035531044006s,3.2172488349536397it/s\n",
      "Step 29/50: num iterations: 12\t 109.4483573436737s,3.216128670572014it/s\n",
      "Step 30/50: num iterations: 8\t 111.91461110115051s,3.2167381582966437it/s\n",
      "Step 31/50: num iterations: 11\t 115.29883074760437s,3.217725605666721it/s\n",
      "Step 32/50: num iterations: 8\t 117.78317475318909s,3.217777078892486it/s\n",
      "Step 33/50: num iterations: 10\t 120.88702988624573s,3.2178803662067605it/s\n",
      "Step 34/50: num iterations: 8\t 123.35673928260803s,3.2183081549397983it/s\n",
      "Step 35/50: num iterations: 10\t 126.50008201599121s,3.2173892183607444it/s\n",
      "Step 36/50: num iterations: 8\t 128.9771385192871s,3.217624493490692it/s\n",
      "Step 37/50: num iterations: 9\t 131.74290871620178s,3.218389544695519it/s\n",
      "Step 38/50: num iterations: 9\t 134.53924655914307s,3.2183917412504197it/s\n",
      "Step 39/50: num iterations: 9\t 137.3384928703308s,3.218325691234414it/s\n",
      "Step 40/50: num iterations: 9\t 140.1257586479187s,3.218537436312383it/s\n",
      "Step 41/50: num iterations: 9\t 142.88675236701965s,3.219332739948079it/s\n",
      "Step 42/50: num iterations: 9\t 145.7587432861328s,3.2176457441000705it/s\n",
      "Step 43/50: num iterations: 9\t 148.55695605278015s,3.2176211245885615it/s\n",
      "Step 44/50: num iterations: 9\t 151.41011714935303s,3.216429715324878it/s\n",
      "Step 45/50: num iterations: 9\t 154.2050964832306s,3.216495507033639it/s\n",
      "Step 45/50: num iterations: 9\t 157.13103246688843s,3.2138782013439426it/s\n",
      "Step 46/50: num iterations: 9\t 159.94700145721436s,3.2135644639608603it/s\n",
      "Step 47/50: num iterations: 9\t 162.75791788101196s,3.2133613332553908it/s\n",
      "Step 48/50: num iterations: 9\t 165.57385993003845s,3.2130675713231014it/s\n",
      "Step 49/50: num iterations: 9\t 168.37754583358765s,3.2130174918613306it/s\n",
      "Step 50/50: num iterations: 9\t 171.22500324249268s,3.2121476979683727it/s\n",
      "Done!\n",
      "Total time:  171.22500324249268\n",
      "Total steps:  50\n",
      "Total iterations:  550\n"
     ]
    }
   ],
   "source": [
    "t = 0.0\n",
    "it = 0\n",
    "elapsed_time = 0\n",
    "Q_n.x.array[:] = Q.x.array[:]\n",
    "while (t < T):\n",
    "    t += dt\n",
    "    start_time = time.time()\n",
    "    r = solver.solve(Q)\n",
    "    Q_n.x.array[:] = Q.x.array\n",
    "    if (isave):\n",
    "        xdmf_Q_file.write_function(Q_n,t)\n",
    "        #vtk_Q_file.write_function(Q_n,t)\n",
    "    elapsed_time += time.time()-start_time\n",
    "    #E = assemble(F2+F3)\n",
    "    it += r[0]\n",
    "    print(f\"Step {int(t/dt)}/{nsteps}: num iterations: {r[0]}\\t {elapsed_time}s,{it/elapsed_time}it/s\")\n",
    "\n",
    "if (isave):\n",
    "    xdmf_Q_file.close()\n",
    "print(\"Done!\")\n",
    "print(\"Total time: \",elapsed_time)\n",
    "print(\"Total steps: \",nsteps)\n",
    "print(\"Total iterations: \",it)"
   ]
  },
  {
   "attachments": {},
   "cell_type": "markdown",
   "metadata": {},
   "source": [
    "The following code snippet converts the way that the Q tensor is written to the xdmf file to a vector vtk file for better visualization without using TensorGlyph filter in Paraview."
   ]
  },
  {
   "cell_type": "code",
   "execution_count": 13,
   "metadata": {},
   "outputs": [
    {
     "ename": "ModuleNotFoundError",
     "evalue": "No module named 'meshio'",
     "output_type": "error",
     "traceback": [
      "\u001b[0;31m---------------------------------------------------------------------------\u001b[0m",
      "\u001b[0;31mModuleNotFoundError\u001b[0m                       Traceback (most recent call last)",
      "Cell \u001b[0;32mIn[13], line 1\u001b[0m\n\u001b[0;32m----> 1\u001b[0m \u001b[39mimport\u001b[39;00m \u001b[39mmeshio\u001b[39;00m\n\u001b[1;32m      2\u001b[0m \u001b[39mdef\u001b[39;00m \u001b[39mxdmf_eig\u001b[39m(filename):\n\u001b[1;32m      3\u001b[0m     \u001b[39mwith\u001b[39;00m meshio\u001b[39m.\u001b[39mxdmf\u001b[39m.\u001b[39mTimeSeriesReader(filename) \u001b[39mas\u001b[39;00m reader:\n",
      "\u001b[0;31mModuleNotFoundError\u001b[0m: No module named 'meshio'"
     ]
    }
   ],
   "source": [
    "import meshio\n",
    "def xdmf_eig(filename):\n",
    "    with meshio.xdmf.TimeSeriesReader(filename) as reader:\n",
    "        points, cells = reader.read_points_cells()\n",
    "        for k in tqdm(range(reader.num_steps)):\n",
    "            t, point_data, cell_data = reader.read_data(k)\n",
    "            data = point_data['f']\n",
    "            eig_data = np.zeros((data.shape[0],3))\n",
    "            for p in range(data.shape[0]):\n",
    "                Q = np.reshape(data[p,:],(3,3))\n",
    "                w,v = np.linalg.eig(Q) #w gives eigenvalues, v gives eigenvectors (v[:,i])\n",
    "                eig_data[p,:] = v[:,np.argmax(w)]\n",
    "\n",
    "            new_mesh = mesh = meshio.Mesh(points,cells,point_data={\"N\": eig_data})\n",
    "            vtk_filename = \"qtensor\"+str(t).replace('.','')+'.vtk'\n",
    "            mesh.write(vtk_filename)\n",
    "\n",
    "if (isave):\n",
    "    print(\"converting Q-tensor to director field\")\n",
    "    xdmf_eig(\"qtensor.xdmf\")"
   ]
  },
  {
   "cell_type": "markdown",
   "metadata": {},
   "source": []
  }
 ],
 "metadata": {
  "kernelspec": {
   "display_name": "base",
   "language": "python",
   "name": "python3"
  },
  "language_info": {
   "codemirror_mode": {
    "name": "ipython",
    "version": 3
   },
   "file_extension": ".py",
   "mimetype": "text/x-python",
   "name": "python",
   "nbconvert_exporter": "python",
   "pygments_lexer": "ipython3",
   "version": "3.10.10"
  },
  "orig_nbformat": 4,
  "vscode": {
   "interpreter": {
    "hash": "8029c709e84c1a8abd9d2c4be48a613c22badb8b8c37d71c0b0342174a8af14c"
   }
  }
 },
 "nbformat": 4,
 "nbformat_minor": 2
}
